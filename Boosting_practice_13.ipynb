{
 "cells": [
  {
   "cell_type": "code",
   "execution_count": 8,
   "id": "067196df",
   "metadata": {},
   "outputs": [],
   "source": [
    "import pandas as pd\n",
    "import numpy as np\n",
    "import matplotlib.pyplot as plt\n",
    "import seaborn as sns\n",
    "sns.set()\n",
    "%matplotlib inline\n",
    "import xgboost as xgb\n",
    "import pickle\n",
    "from sklearn import datasets\n",
    "from sklearn.metrics import accuracy_score\n",
    "from xgboost import XGBClassifier"
   ]
  },
  {
   "cell_type": "code",
   "execution_count": 9,
   "id": "fd334a45",
   "metadata": {},
   "outputs": [],
   "source": [
    "dfh = pd.read_csv(r'C:\\Users\\skme2\\OneDrive\\Documents\\Python Scripts\\MACHINE LEARNING PRACTICE\\Machine Learning Module 3-20220107T112100Z-001\\Machine Learning Module 3\\ensemble_boosting-1\\ensemble_boosting\\heart_disease.csv')"
   ]
  },
  {
   "cell_type": "code",
   "execution_count": 11,
   "id": "a90a2d4f",
   "metadata": {},
   "outputs": [
    {
     "data": {
      "text/html": [
       "<div>\n",
       "<style scoped>\n",
       "    .dataframe tbody tr th:only-of-type {\n",
       "        vertical-align: middle;\n",
       "    }\n",
       "\n",
       "    .dataframe tbody tr th {\n",
       "        vertical-align: top;\n",
       "    }\n",
       "\n",
       "    .dataframe thead th {\n",
       "        text-align: right;\n",
       "    }\n",
       "</style>\n",
       "<table border=\"1\" class=\"dataframe\">\n",
       "  <thead>\n",
       "    <tr style=\"text-align: right;\">\n",
       "      <th></th>\n",
       "      <th>Is Chest Pain Present</th>\n",
       "      <th>Are any arteries blocked</th>\n",
       "      <th>Weight of the person</th>\n",
       "      <th>Is Heart Patient</th>\n",
       "    </tr>\n",
       "  </thead>\n",
       "  <tbody>\n",
       "    <tr>\n",
       "      <th>0</th>\n",
       "      <td>YES</td>\n",
       "      <td>YES</td>\n",
       "      <td>205</td>\n",
       "      <td>YES</td>\n",
       "    </tr>\n",
       "    <tr>\n",
       "      <th>1</th>\n",
       "      <td>NO</td>\n",
       "      <td>YES</td>\n",
       "      <td>180</td>\n",
       "      <td>YES</td>\n",
       "    </tr>\n",
       "    <tr>\n",
       "      <th>2</th>\n",
       "      <td>YES</td>\n",
       "      <td>NO</td>\n",
       "      <td>210</td>\n",
       "      <td>YES</td>\n",
       "    </tr>\n",
       "    <tr>\n",
       "      <th>3</th>\n",
       "      <td>YES</td>\n",
       "      <td>YES</td>\n",
       "      <td>167</td>\n",
       "      <td>YES</td>\n",
       "    </tr>\n",
       "    <tr>\n",
       "      <th>4</th>\n",
       "      <td>NO</td>\n",
       "      <td>YES</td>\n",
       "      <td>156</td>\n",
       "      <td>NO</td>\n",
       "    </tr>\n",
       "  </tbody>\n",
       "</table>\n",
       "</div>"
      ],
      "text/plain": [
       "  Is Chest Pain Present Are any arteries blocked  Weight of the person  \\\n",
       "0                   YES                      YES                   205   \n",
       "1                    NO                      YES                   180   \n",
       "2                   YES                       NO                   210   \n",
       "3                   YES                      YES                   167   \n",
       "4                    NO                      YES                   156   \n",
       "\n",
       "  Is Heart Patient  \n",
       "0              YES  \n",
       "1              YES  \n",
       "2              YES  \n",
       "3              YES  \n",
       "4               NO  "
      ]
     },
     "execution_count": 11,
     "metadata": {},
     "output_type": "execute_result"
    }
   ],
   "source": [
    "dfh.head()"
   ]
  },
  {
   "cell_type": "code",
   "execution_count": 12,
   "id": "21aa386b",
   "metadata": {},
   "outputs": [],
   "source": [
    "dfw = pd.read_csv('C:/Users/skme2/OneDrive/Documents/Python Scripts/MACHINE LEARNING PRACTICE/Machine Learning Module 3-20220107T112100Z-001/Machine Learning Module 3/ensemble_boosting-1/ensemble_boosting/weights.csv')"
   ]
  },
  {
   "cell_type": "code",
   "execution_count": 14,
   "id": "29763057",
   "metadata": {},
   "outputs": [],
   "source": [
    "dfd = pd.read_csv(r'C:\\Users\\skme2\\OneDrive\\Documents\\Python Scripts\\MACHINE LEARNING PRACTICE\\Machine Learning Module 3-20220107T112100Z-001\\Machine Learning Module 3\\ensemble_boosting-1\\ensemble_boosting\\pima-indians-diabetes.csv')"
   ]
  },
  {
   "cell_type": "code",
   "execution_count": 15,
   "id": "23b038f7",
   "metadata": {},
   "outputs": [
    {
     "data": {
      "text/html": [
       "<div>\n",
       "<style scoped>\n",
       "    .dataframe tbody tr th:only-of-type {\n",
       "        vertical-align: middle;\n",
       "    }\n",
       "\n",
       "    .dataframe tbody tr th {\n",
       "        vertical-align: top;\n",
       "    }\n",
       "\n",
       "    .dataframe thead th {\n",
       "        text-align: right;\n",
       "    }\n",
       "</style>\n",
       "<table border=\"1\" class=\"dataframe\">\n",
       "  <thead>\n",
       "    <tr style=\"text-align: right;\">\n",
       "      <th></th>\n",
       "      <th>Number of times pregnant</th>\n",
       "      <th>Plasma glucose concentration</th>\n",
       "      <th>Diastolic blood pressure (mm Hg)</th>\n",
       "      <th>Triceps skinfold thickness (mm)</th>\n",
       "      <th>2-Hour serum insulin (mu U/ml)</th>\n",
       "      <th>Body mass index (weight in kg/(height in m)^2)</th>\n",
       "      <th>Diabetes pedigree function</th>\n",
       "      <th>Age</th>\n",
       "      <th>Is Diabetic</th>\n",
       "    </tr>\n",
       "  </thead>\n",
       "  <tbody>\n",
       "    <tr>\n",
       "      <th>0</th>\n",
       "      <td>6</td>\n",
       "      <td>148</td>\n",
       "      <td>72</td>\n",
       "      <td>35</td>\n",
       "      <td>0</td>\n",
       "      <td>33.6</td>\n",
       "      <td>0.627</td>\n",
       "      <td>50</td>\n",
       "      <td>1</td>\n",
       "    </tr>\n",
       "    <tr>\n",
       "      <th>1</th>\n",
       "      <td>1</td>\n",
       "      <td>85</td>\n",
       "      <td>66</td>\n",
       "      <td>29</td>\n",
       "      <td>0</td>\n",
       "      <td>26.6</td>\n",
       "      <td>0.351</td>\n",
       "      <td>31</td>\n",
       "      <td>0</td>\n",
       "    </tr>\n",
       "    <tr>\n",
       "      <th>2</th>\n",
       "      <td>8</td>\n",
       "      <td>183</td>\n",
       "      <td>64</td>\n",
       "      <td>0</td>\n",
       "      <td>0</td>\n",
       "      <td>23.3</td>\n",
       "      <td>0.672</td>\n",
       "      <td>32</td>\n",
       "      <td>1</td>\n",
       "    </tr>\n",
       "    <tr>\n",
       "      <th>3</th>\n",
       "      <td>1</td>\n",
       "      <td>89</td>\n",
       "      <td>66</td>\n",
       "      <td>23</td>\n",
       "      <td>94</td>\n",
       "      <td>28.1</td>\n",
       "      <td>0.167</td>\n",
       "      <td>21</td>\n",
       "      <td>0</td>\n",
       "    </tr>\n",
       "    <tr>\n",
       "      <th>4</th>\n",
       "      <td>0</td>\n",
       "      <td>137</td>\n",
       "      <td>40</td>\n",
       "      <td>35</td>\n",
       "      <td>168</td>\n",
       "      <td>43.1</td>\n",
       "      <td>2.288</td>\n",
       "      <td>33</td>\n",
       "      <td>1</td>\n",
       "    </tr>\n",
       "  </tbody>\n",
       "</table>\n",
       "</div>"
      ],
      "text/plain": [
       "   Number of times pregnant  Plasma glucose concentration  \\\n",
       "0                         6                           148   \n",
       "1                         1                            85   \n",
       "2                         8                           183   \n",
       "3                         1                            89   \n",
       "4                         0                           137   \n",
       "\n",
       "   Diastolic blood pressure (mm Hg)  Triceps skinfold thickness (mm)  \\\n",
       "0                                72                               35   \n",
       "1                                66                               29   \n",
       "2                                64                                0   \n",
       "3                                66                               23   \n",
       "4                                40                               35   \n",
       "\n",
       "   2-Hour serum insulin (mu U/ml)  \\\n",
       "0                               0   \n",
       "1                               0   \n",
       "2                               0   \n",
       "3                              94   \n",
       "4                             168   \n",
       "\n",
       "   Body mass index (weight in kg/(height in m)^2)  Diabetes pedigree function  \\\n",
       "0                                            33.6                       0.627   \n",
       "1                                            26.6                       0.351   \n",
       "2                                            23.3                       0.672   \n",
       "3                                            28.1                       0.167   \n",
       "4                                            43.1                       2.288   \n",
       "\n",
       "   Age  Is Diabetic  \n",
       "0   50            1  \n",
       "1   31            0  \n",
       "2   32            1  \n",
       "3   21            0  \n",
       "4   33            1  "
      ]
     },
     "execution_count": 15,
     "metadata": {},
     "output_type": "execute_result"
    }
   ],
   "source": [
    "dfd.head()"
   ]
  },
  {
   "cell_type": "code",
   "execution_count": 16,
   "id": "1e4a18f6",
   "metadata": {},
   "outputs": [
    {
     "data": {
      "text/plain": [
       "Index(['Number of times pregnant', 'Plasma glucose concentration',\n",
       "       'Diastolic blood pressure (mm Hg)', 'Triceps skinfold thickness (mm)',\n",
       "       '2-Hour serum insulin (mu U/ml)',\n",
       "       'Body mass index (weight in kg/(height in m)^2)',\n",
       "       'Diabetes pedigree function', 'Age', 'Is Diabetic'],\n",
       "      dtype='object')"
      ]
     },
     "execution_count": 16,
     "metadata": {},
     "output_type": "execute_result"
    }
   ],
   "source": [
    "dfd.columns"
   ]
  },
  {
   "cell_type": "code",
   "execution_count": 17,
   "id": "e5475ee3",
   "metadata": {},
   "outputs": [],
   "source": [
    "cols = ['Plasma glucose concentration',\n",
    "       'Diastolic blood pressure (mm Hg)', 'Triceps skinfold thickness (mm)',\n",
    "       '2-Hour serum insulin (mu U/ml)',\n",
    "       'Body mass index (weight in kg/(height in m)^2)',\n",
    "       'Diabetes pedigree function', 'Age']"
   ]
  },
  {
   "cell_type": "code",
   "execution_count": 20,
   "id": "6bf277c4",
   "metadata": {},
   "outputs": [],
   "source": [
    "for i in cols:\n",
    "    dfd[i] =  dfd[i].replace(0, np.nan)"
   ]
  },
  {
   "cell_type": "code",
   "execution_count": 21,
   "id": "132c5c7a",
   "metadata": {},
   "outputs": [
    {
     "data": {
      "text/plain": [
       "Number of times pregnant                            0\n",
       "Plasma glucose concentration                        5\n",
       "Diastolic blood pressure (mm Hg)                   35\n",
       "Triceps skinfold thickness (mm)                   227\n",
       "2-Hour serum insulin (mu U/ml)                    374\n",
       "Body mass index (weight in kg/(height in m)^2)     11\n",
       "Diabetes pedigree function                          0\n",
       "Age                                                 0\n",
       "Is Diabetic                                         0\n",
       "dtype: int64"
      ]
     },
     "execution_count": 21,
     "metadata": {},
     "output_type": "execute_result"
    }
   ],
   "source": [
    "dfd.isnull().sum()"
   ]
  },
  {
   "cell_type": "code",
   "execution_count": 23,
   "id": "6c24e408",
   "metadata": {},
   "outputs": [],
   "source": [
    "dfd['Plasma glucose concentration']=dfd['Plasma glucose concentration'].fillna(dfd['Plasma glucose concentration'].mode()[0])\n",
    "dfd['Diastolic blood pressure (mm Hg)']=dfd['Diastolic blood pressure (mm Hg)'].fillna(dfd['Diastolic blood pressure (mm Hg)'].mode()[0])\n",
    "dfd['Triceps skinfold thickness (mm)']=dfd['Triceps skinfold thickness (mm)'].fillna(dfd['Triceps skinfold thickness (mm)'].mean())\n",
    "dfd['2-Hour serum insulin (mu U/ml)']=dfd['2-Hour serum insulin (mu U/ml)'].fillna(dfd['2-Hour serum insulin (mu U/ml)'].mean())\n",
    "dfd['Body mass index (weight in kg/(height in m)^2)']=dfd['Body mass index (weight in kg/(height in m)^2)'].fillna(dfd['Body mass index (weight in kg/(height in m)^2)'].mean())\n"
   ]
  },
  {
   "cell_type": "code",
   "execution_count": 24,
   "id": "0a59e242",
   "metadata": {},
   "outputs": [
    {
     "data": {
      "text/plain": [
       "Number of times pregnant                          0\n",
       "Plasma glucose concentration                      0\n",
       "Diastolic blood pressure (mm Hg)                  0\n",
       "Triceps skinfold thickness (mm)                   0\n",
       "2-Hour serum insulin (mu U/ml)                    0\n",
       "Body mass index (weight in kg/(height in m)^2)    0\n",
       "Diabetes pedigree function                        0\n",
       "Age                                               0\n",
       "Is Diabetic                                       0\n",
       "dtype: int64"
      ]
     },
     "execution_count": 24,
     "metadata": {},
     "output_type": "execute_result"
    }
   ],
   "source": [
    "dfd.isnull().sum()"
   ]
  },
  {
   "cell_type": "code",
   "execution_count": 26,
   "id": "dd08194c",
   "metadata": {},
   "outputs": [],
   "source": [
    "x=dfd.drop(labels='Is Diabetic', axis=1)\n",
    "y= dfd['Is Diabetic']"
   ]
  },
  {
   "cell_type": "code",
   "execution_count": 27,
   "id": "40c8f2e1",
   "metadata": {},
   "outputs": [
    {
     "data": {
      "text/html": [
       "<div>\n",
       "<style scoped>\n",
       "    .dataframe tbody tr th:only-of-type {\n",
       "        vertical-align: middle;\n",
       "    }\n",
       "\n",
       "    .dataframe tbody tr th {\n",
       "        vertical-align: top;\n",
       "    }\n",
       "\n",
       "    .dataframe thead th {\n",
       "        text-align: right;\n",
       "    }\n",
       "</style>\n",
       "<table border=\"1\" class=\"dataframe\">\n",
       "  <thead>\n",
       "    <tr style=\"text-align: right;\">\n",
       "      <th></th>\n",
       "      <th>Number of times pregnant</th>\n",
       "      <th>Plasma glucose concentration</th>\n",
       "      <th>Diastolic blood pressure (mm Hg)</th>\n",
       "      <th>Triceps skinfold thickness (mm)</th>\n",
       "      <th>2-Hour serum insulin (mu U/ml)</th>\n",
       "      <th>Body mass index (weight in kg/(height in m)^2)</th>\n",
       "      <th>Diabetes pedigree function</th>\n",
       "      <th>Age</th>\n",
       "    </tr>\n",
       "  </thead>\n",
       "  <tbody>\n",
       "    <tr>\n",
       "      <th>0</th>\n",
       "      <td>6</td>\n",
       "      <td>148.0</td>\n",
       "      <td>72.0</td>\n",
       "      <td>35.00000</td>\n",
       "      <td>155.548223</td>\n",
       "      <td>33.6</td>\n",
       "      <td>0.627</td>\n",
       "      <td>50</td>\n",
       "    </tr>\n",
       "    <tr>\n",
       "      <th>1</th>\n",
       "      <td>1</td>\n",
       "      <td>85.0</td>\n",
       "      <td>66.0</td>\n",
       "      <td>29.00000</td>\n",
       "      <td>155.548223</td>\n",
       "      <td>26.6</td>\n",
       "      <td>0.351</td>\n",
       "      <td>31</td>\n",
       "    </tr>\n",
       "    <tr>\n",
       "      <th>2</th>\n",
       "      <td>8</td>\n",
       "      <td>183.0</td>\n",
       "      <td>64.0</td>\n",
       "      <td>29.15342</td>\n",
       "      <td>155.548223</td>\n",
       "      <td>23.3</td>\n",
       "      <td>0.672</td>\n",
       "      <td>32</td>\n",
       "    </tr>\n",
       "    <tr>\n",
       "      <th>3</th>\n",
       "      <td>1</td>\n",
       "      <td>89.0</td>\n",
       "      <td>66.0</td>\n",
       "      <td>23.00000</td>\n",
       "      <td>94.000000</td>\n",
       "      <td>28.1</td>\n",
       "      <td>0.167</td>\n",
       "      <td>21</td>\n",
       "    </tr>\n",
       "    <tr>\n",
       "      <th>4</th>\n",
       "      <td>0</td>\n",
       "      <td>137.0</td>\n",
       "      <td>40.0</td>\n",
       "      <td>35.00000</td>\n",
       "      <td>168.000000</td>\n",
       "      <td>43.1</td>\n",
       "      <td>2.288</td>\n",
       "      <td>33</td>\n",
       "    </tr>\n",
       "  </tbody>\n",
       "</table>\n",
       "</div>"
      ],
      "text/plain": [
       "   Number of times pregnant  Plasma glucose concentration  \\\n",
       "0                         6                         148.0   \n",
       "1                         1                          85.0   \n",
       "2                         8                         183.0   \n",
       "3                         1                          89.0   \n",
       "4                         0                         137.0   \n",
       "\n",
       "   Diastolic blood pressure (mm Hg)  Triceps skinfold thickness (mm)  \\\n",
       "0                              72.0                         35.00000   \n",
       "1                              66.0                         29.00000   \n",
       "2                              64.0                         29.15342   \n",
       "3                              66.0                         23.00000   \n",
       "4                              40.0                         35.00000   \n",
       "\n",
       "   2-Hour serum insulin (mu U/ml)  \\\n",
       "0                      155.548223   \n",
       "1                      155.548223   \n",
       "2                      155.548223   \n",
       "3                       94.000000   \n",
       "4                      168.000000   \n",
       "\n",
       "   Body mass index (weight in kg/(height in m)^2)  Diabetes pedigree function  \\\n",
       "0                                            33.6                       0.627   \n",
       "1                                            26.6                       0.351   \n",
       "2                                            23.3                       0.672   \n",
       "3                                            28.1                       0.167   \n",
       "4                                            43.1                       2.288   \n",
       "\n",
       "   Age  \n",
       "0   50  \n",
       "1   31  \n",
       "2   32  \n",
       "3   21  \n",
       "4   33  "
      ]
     },
     "execution_count": 27,
     "metadata": {},
     "output_type": "execute_result"
    }
   ],
   "source": [
    "x.head()"
   ]
  },
  {
   "cell_type": "code",
   "execution_count": 30,
   "id": "7d8e5319",
   "metadata": {},
   "outputs": [],
   "source": [
    "from sklearn.preprocessing import StandardScaler\n",
    "scaler=StandardScaler()\n",
    "X_scaled=scaler.fit_transform(x)\n",
    "from sklearn.model_selection import train_test_split"
   ]
  },
  {
   "cell_type": "code",
   "execution_count": 31,
   "id": "f6cdc3aa",
   "metadata": {},
   "outputs": [],
   "source": [
    "X_train, X_test, y_train, y_test =train_test_split(X_scaled,y,test_size=0.3,random_state=42)"
   ]
  },
  {
   "cell_type": "code",
   "execution_count": 32,
   "id": "8f87fd17",
   "metadata": {},
   "outputs": [],
   "source": [
    "model_xgb = XGBClassifier()"
   ]
  },
  {
   "cell_type": "code",
   "execution_count": 33,
   "id": "bc96ddfb",
   "metadata": {},
   "outputs": [
    {
     "data": {
      "text/html": [
       "<style>#sk-container-id-1 {color: black;background-color: white;}#sk-container-id-1 pre{padding: 0;}#sk-container-id-1 div.sk-toggleable {background-color: white;}#sk-container-id-1 label.sk-toggleable__label {cursor: pointer;display: block;width: 100%;margin-bottom: 0;padding: 0.3em;box-sizing: border-box;text-align: center;}#sk-container-id-1 label.sk-toggleable__label-arrow:before {content: \"▸\";float: left;margin-right: 0.25em;color: #696969;}#sk-container-id-1 label.sk-toggleable__label-arrow:hover:before {color: black;}#sk-container-id-1 div.sk-estimator:hover label.sk-toggleable__label-arrow:before {color: black;}#sk-container-id-1 div.sk-toggleable__content {max-height: 0;max-width: 0;overflow: hidden;text-align: left;background-color: #f0f8ff;}#sk-container-id-1 div.sk-toggleable__content pre {margin: 0.2em;color: black;border-radius: 0.25em;background-color: #f0f8ff;}#sk-container-id-1 input.sk-toggleable__control:checked~div.sk-toggleable__content {max-height: 200px;max-width: 100%;overflow: auto;}#sk-container-id-1 input.sk-toggleable__control:checked~label.sk-toggleable__label-arrow:before {content: \"▾\";}#sk-container-id-1 div.sk-estimator input.sk-toggleable__control:checked~label.sk-toggleable__label {background-color: #d4ebff;}#sk-container-id-1 div.sk-label input.sk-toggleable__control:checked~label.sk-toggleable__label {background-color: #d4ebff;}#sk-container-id-1 input.sk-hidden--visually {border: 0;clip: rect(1px 1px 1px 1px);clip: rect(1px, 1px, 1px, 1px);height: 1px;margin: -1px;overflow: hidden;padding: 0;position: absolute;width: 1px;}#sk-container-id-1 div.sk-estimator {font-family: monospace;background-color: #f0f8ff;border: 1px dotted black;border-radius: 0.25em;box-sizing: border-box;margin-bottom: 0.5em;}#sk-container-id-1 div.sk-estimator:hover {background-color: #d4ebff;}#sk-container-id-1 div.sk-parallel-item::after {content: \"\";width: 100%;border-bottom: 1px solid gray;flex-grow: 1;}#sk-container-id-1 div.sk-label:hover label.sk-toggleable__label {background-color: #d4ebff;}#sk-container-id-1 div.sk-serial::before {content: \"\";position: absolute;border-left: 1px solid gray;box-sizing: border-box;top: 0;bottom: 0;left: 50%;z-index: 0;}#sk-container-id-1 div.sk-serial {display: flex;flex-direction: column;align-items: center;background-color: white;padding-right: 0.2em;padding-left: 0.2em;position: relative;}#sk-container-id-1 div.sk-item {position: relative;z-index: 1;}#sk-container-id-1 div.sk-parallel {display: flex;align-items: stretch;justify-content: center;background-color: white;position: relative;}#sk-container-id-1 div.sk-item::before, #sk-container-id-1 div.sk-parallel-item::before {content: \"\";position: absolute;border-left: 1px solid gray;box-sizing: border-box;top: 0;bottom: 0;left: 50%;z-index: -1;}#sk-container-id-1 div.sk-parallel-item {display: flex;flex-direction: column;z-index: 1;position: relative;background-color: white;}#sk-container-id-1 div.sk-parallel-item:first-child::after {align-self: flex-end;width: 50%;}#sk-container-id-1 div.sk-parallel-item:last-child::after {align-self: flex-start;width: 50%;}#sk-container-id-1 div.sk-parallel-item:only-child::after {width: 0;}#sk-container-id-1 div.sk-dashed-wrapped {border: 1px dashed gray;margin: 0 0.4em 0.5em 0.4em;box-sizing: border-box;padding-bottom: 0.4em;background-color: white;}#sk-container-id-1 div.sk-label label {font-family: monospace;font-weight: bold;display: inline-block;line-height: 1.2em;}#sk-container-id-1 div.sk-label-container {text-align: center;}#sk-container-id-1 div.sk-container {/* jupyter's `normalize.less` sets `[hidden] { display: none; }` but bootstrap.min.css set `[hidden] { display: none !important; }` so we also need the `!important` here to be able to override the default hidden behavior on the sphinx rendered scikit-learn.org. See: https://github.com/scikit-learn/scikit-learn/issues/21755 */display: inline-block !important;position: relative;}#sk-container-id-1 div.sk-text-repr-fallback {display: none;}</style><div id=\"sk-container-id-1\" class=\"sk-top-container\"><div class=\"sk-text-repr-fallback\"><pre>XGBClassifier()</pre><b>In a Jupyter environment, please rerun this cell to show the HTML representation or trust the notebook. <br />On GitHub, the HTML representation is unable to render, please try loading this page with nbviewer.org.</b></div><div class=\"sk-container\" hidden><div class=\"sk-item\"><div class=\"sk-estimator sk-toggleable\"><input class=\"sk-toggleable__control sk-hidden--visually\" id=\"sk-estimator-id-1\" type=\"checkbox\" checked><label for=\"sk-estimator-id-1\" class=\"sk-toggleable__label sk-toggleable__label-arrow\">XGBClassifier</label><div class=\"sk-toggleable__content\"><pre>XGBClassifier()</pre></div></div></div></div></div>"
      ],
      "text/plain": [
       "XGBClassifier()"
      ]
     },
     "execution_count": 33,
     "metadata": {},
     "output_type": "execute_result"
    }
   ],
   "source": [
    "model_xgb.fit(X_train, y_train)"
   ]
  },
  {
   "cell_type": "code",
   "execution_count": 34,
   "id": "c1e17843",
   "metadata": {},
   "outputs": [],
   "source": [
    "y_pred = model_xgb.predict(X_test)"
   ]
  },
  {
   "cell_type": "code",
   "execution_count": 36,
   "id": "b12c4145",
   "metadata": {},
   "outputs": [],
   "source": [
    "predictions = [round(value) for value in y_pred]"
   ]
  },
  {
   "cell_type": "code",
   "execution_count": 38,
   "id": "26af3a9d",
   "metadata": {},
   "outputs": [],
   "source": [
    "accuracy = accuracy_score(y_test, predictions)"
   ]
  },
  {
   "cell_type": "code",
   "execution_count": 39,
   "id": "e8490ab8",
   "metadata": {},
   "outputs": [
    {
     "data": {
      "text/plain": [
       "0.7402597402597403"
      ]
     },
     "execution_count": 39,
     "metadata": {},
     "output_type": "execute_result"
    }
   ],
   "source": [
    "accuracy"
   ]
  },
  {
   "cell_type": "code",
   "execution_count": 44,
   "id": "bbbe8298",
   "metadata": {},
   "outputs": [],
   "source": [
    "y_pred_traing = model_xgb.predict(X_train)\n",
    "pred_traing = [round(v) for v in y_pred_traing]\n",
    "acc_traing = accuracy_score(y_train, pred_traing)"
   ]
  },
  {
   "cell_type": "code",
   "execution_count": 45,
   "id": "02c3b447",
   "metadata": {},
   "outputs": [
    {
     "data": {
      "text/plain": [
       "0.7402597402597403"
      ]
     },
     "execution_count": 45,
     "metadata": {},
     "output_type": "execute_result"
    }
   ],
   "source": [
    "accuracy"
   ]
  },
  {
   "cell_type": "code",
   "execution_count": 46,
   "id": "b762f667",
   "metadata": {},
   "outputs": [
    {
     "data": {
      "text/plain": [
       "0.9050279329608939"
      ]
     },
     "execution_count": 46,
     "metadata": {},
     "output_type": "execute_result"
    }
   ],
   "source": [
    "acc_traing"
   ]
  },
  {
   "cell_type": "code",
   "execution_count": 48,
   "id": "57cbf128",
   "metadata": {},
   "outputs": [
    {
     "data": {
      "text/plain": [
       "array([ 0.63994726, -0.77251205, -1.18156252,  0.43784695,  0.40547846,\n",
       "        0.22451019, -0.1264714 ,  0.83038113])"
      ]
     },
     "execution_count": 48,
     "metadata": {},
     "output_type": "execute_result"
    }
   ],
   "source": [
    "X_test[0]"
   ]
  },
  {
   "cell_type": "code",
   "execution_count": 49,
   "id": "4d63d485",
   "metadata": {},
   "outputs": [],
   "source": [
    "from sklearn.model_selection import GridSearchCV"
   ]
  },
  {
   "cell_type": "code",
   "execution_count": 50,
   "id": "4d8ca368",
   "metadata": {},
   "outputs": [],
   "source": [
    "param_grid={\n",
    "   \n",
    "    ' learning_rate':[1,0.5,0.1,0.01,0.001],\n",
    "    'max_depth': [3,5,10,20],\n",
    "    'n_estimators':[10,50,100,200]\n",
    "    \n",
    "}"
   ]
  },
  {
   "cell_type": "code",
   "execution_count": 51,
   "id": "8adcae09",
   "metadata": {},
   "outputs": [],
   "source": [
    "grid= GridSearchCV(XGBClassifier(objective='binary:logistic'),param_grid, verbose=3)"
   ]
  },
  {
   "cell_type": "code",
   "execution_count": 52,
   "id": "1aa634ed",
   "metadata": {},
   "outputs": [
    {
     "name": "stdout",
     "output_type": "stream",
     "text": [
      "Fitting 5 folds for each of 80 candidates, totalling 400 fits\n",
      "[CV 1/5] END  learning_rate=1, max_depth=3, n_estimators=10;, score=0.778 total time=   1.0s\n",
      "[CV 2/5] END  learning_rate=1, max_depth=3, n_estimators=10;, score=0.731 total time=   0.0s\n",
      "[CV 3/5] END  learning_rate=1, max_depth=3, n_estimators=10;, score=0.785 total time=   0.0s\n",
      "[CV 4/5] END  learning_rate=1, max_depth=3, n_estimators=10;, score=0.692 total time=   0.0s\n",
      "[CV 5/5] END  learning_rate=1, max_depth=3, n_estimators=10;, score=0.729 total time=   0.0s\n",
      "[CV 1/5] END  learning_rate=1, max_depth=3, n_estimators=50;, score=0.815 total time=   0.0s\n",
      "[CV 2/5] END  learning_rate=1, max_depth=3, n_estimators=50;, score=0.731 total time=   0.0s\n",
      "[CV 3/5] END  learning_rate=1, max_depth=3, n_estimators=50;, score=0.776 total time=   0.0s\n",
      "[CV 4/5] END  learning_rate=1, max_depth=3, n_estimators=50;, score=0.729 total time=   0.0s\n",
      "[CV 5/5] END  learning_rate=1, max_depth=3, n_estimators=50;, score=0.785 total time=   0.0s\n",
      "[CV 1/5] END  learning_rate=1, max_depth=3, n_estimators=100;, score=0.815 total time=   0.0s\n",
      "[CV 2/5] END  learning_rate=1, max_depth=3, n_estimators=100;, score=0.722 total time=   0.0s\n",
      "[CV 3/5] END  learning_rate=1, max_depth=3, n_estimators=100;, score=0.776 total time=   0.0s\n",
      "[CV 4/5] END  learning_rate=1, max_depth=3, n_estimators=100;, score=0.720 total time=   0.0s\n",
      "[CV 5/5] END  learning_rate=1, max_depth=3, n_estimators=100;, score=0.785 total time=   0.0s\n",
      "[CV 1/5] END  learning_rate=1, max_depth=3, n_estimators=200;, score=0.778 total time=   0.0s\n",
      "[CV 2/5] END  learning_rate=1, max_depth=3, n_estimators=200;, score=0.741 total time=   0.0s\n",
      "[CV 3/5] END  learning_rate=1, max_depth=3, n_estimators=200;, score=0.757 total time=   0.0s\n",
      "[CV 4/5] END  learning_rate=1, max_depth=3, n_estimators=200;, score=0.720 total time=   0.1s\n",
      "[CV 5/5] END  learning_rate=1, max_depth=3, n_estimators=200;, score=0.757 total time=   0.0s\n",
      "[CV 1/5] END  learning_rate=1, max_depth=5, n_estimators=10;, score=0.824 total time=   0.0s\n",
      "[CV 2/5] END  learning_rate=1, max_depth=5, n_estimators=10;, score=0.778 total time=   0.0s\n",
      "[CV 3/5] END  learning_rate=1, max_depth=5, n_estimators=10;, score=0.776 total time=   0.0s\n",
      "[CV 4/5] END  learning_rate=1, max_depth=5, n_estimators=10;, score=0.692 total time=   0.0s\n",
      "[CV 5/5] END  learning_rate=1, max_depth=5, n_estimators=10;, score=0.710 total time=   0.0s\n",
      "[CV 1/5] END  learning_rate=1, max_depth=5, n_estimators=50;, score=0.833 total time=   0.0s\n",
      "[CV 2/5] END  learning_rate=1, max_depth=5, n_estimators=50;, score=0.741 total time=   0.0s\n",
      "[CV 3/5] END  learning_rate=1, max_depth=5, n_estimators=50;, score=0.785 total time=   0.0s\n",
      "[CV 4/5] END  learning_rate=1, max_depth=5, n_estimators=50;, score=0.738 total time=   0.0s\n",
      "[CV 5/5] END  learning_rate=1, max_depth=5, n_estimators=50;, score=0.757 total time=   0.0s\n",
      "[CV 1/5] END  learning_rate=1, max_depth=5, n_estimators=100;, score=0.769 total time=   0.0s\n",
      "[CV 2/5] END  learning_rate=1, max_depth=5, n_estimators=100;, score=0.750 total time=   0.0s\n",
      "[CV 3/5] END  learning_rate=1, max_depth=5, n_estimators=100;, score=0.776 total time=   0.0s\n",
      "[CV 4/5] END  learning_rate=1, max_depth=5, n_estimators=100;, score=0.720 total time=   0.0s\n",
      "[CV 5/5] END  learning_rate=1, max_depth=5, n_estimators=100;, score=0.748 total time=   0.0s\n",
      "[CV 1/5] END  learning_rate=1, max_depth=5, n_estimators=200;, score=0.769 total time=   0.1s\n",
      "[CV 2/5] END  learning_rate=1, max_depth=5, n_estimators=200;, score=0.759 total time=   0.1s\n",
      "[CV 3/5] END  learning_rate=1, max_depth=5, n_estimators=200;, score=0.776 total time=   0.1s\n",
      "[CV 4/5] END  learning_rate=1, max_depth=5, n_estimators=200;, score=0.710 total time=   0.1s\n",
      "[CV 5/5] END  learning_rate=1, max_depth=5, n_estimators=200;, score=0.729 total time=   0.1s\n",
      "[CV 1/5] END  learning_rate=1, max_depth=10, n_estimators=10;, score=0.796 total time=   0.0s\n",
      "[CV 2/5] END  learning_rate=1, max_depth=10, n_estimators=10;, score=0.778 total time=   0.0s\n",
      "[CV 3/5] END  learning_rate=1, max_depth=10, n_estimators=10;, score=0.738 total time=   0.0s\n",
      "[CV 4/5] END  learning_rate=1, max_depth=10, n_estimators=10;, score=0.729 total time=   0.0s\n",
      "[CV 5/5] END  learning_rate=1, max_depth=10, n_estimators=10;, score=0.738 total time=   0.0s\n",
      "[CV 1/5] END  learning_rate=1, max_depth=10, n_estimators=50;, score=0.778 total time=   0.0s\n",
      "[CV 2/5] END  learning_rate=1, max_depth=10, n_estimators=50;, score=0.741 total time=   0.0s\n",
      "[CV 3/5] END  learning_rate=1, max_depth=10, n_estimators=50;, score=0.776 total time=   0.0s\n",
      "[CV 4/5] END  learning_rate=1, max_depth=10, n_estimators=50;, score=0.748 total time=   0.0s\n",
      "[CV 5/5] END  learning_rate=1, max_depth=10, n_estimators=50;, score=0.748 total time=   0.0s\n",
      "[CV 1/5] END  learning_rate=1, max_depth=10, n_estimators=100;, score=0.769 total time=   0.0s\n",
      "[CV 2/5] END  learning_rate=1, max_depth=10, n_estimators=100;, score=0.731 total time=   0.0s\n",
      "[CV 3/5] END  learning_rate=1, max_depth=10, n_estimators=100;, score=0.776 total time=   0.0s\n",
      "[CV 4/5] END  learning_rate=1, max_depth=10, n_estimators=100;, score=0.729 total time=   0.0s\n",
      "[CV 5/5] END  learning_rate=1, max_depth=10, n_estimators=100;, score=0.766 total time=   0.0s\n",
      "[CV 1/5] END  learning_rate=1, max_depth=10, n_estimators=200;, score=0.769 total time=   0.1s\n",
      "[CV 2/5] END  learning_rate=1, max_depth=10, n_estimators=200;, score=0.722 total time=   0.1s\n",
      "[CV 3/5] END  learning_rate=1, max_depth=10, n_estimators=200;, score=0.766 total time=   0.1s\n",
      "[CV 4/5] END  learning_rate=1, max_depth=10, n_estimators=200;, score=0.738 total time=   0.1s\n",
      "[CV 5/5] END  learning_rate=1, max_depth=10, n_estimators=200;, score=0.748 total time=   0.1s\n",
      "[CV 1/5] END  learning_rate=1, max_depth=20, n_estimators=10;, score=0.787 total time=   0.0s\n",
      "[CV 2/5] END  learning_rate=1, max_depth=20, n_estimators=10;, score=0.778 total time=   0.0s\n",
      "[CV 3/5] END  learning_rate=1, max_depth=20, n_estimators=10;, score=0.766 total time=   0.0s\n",
      "[CV 4/5] END  learning_rate=1, max_depth=20, n_estimators=10;, score=0.720 total time=   0.0s\n",
      "[CV 5/5] END  learning_rate=1, max_depth=20, n_estimators=10;, score=0.738 total time=   0.0s\n",
      "[CV 1/5] END  learning_rate=1, max_depth=20, n_estimators=50;, score=0.778 total time=   0.0s\n",
      "[CV 2/5] END  learning_rate=1, max_depth=20, n_estimators=50;, score=0.731 total time=   0.0s\n",
      "[CV 3/5] END  learning_rate=1, max_depth=20, n_estimators=50;, score=0.776 total time=   0.0s\n",
      "[CV 4/5] END  learning_rate=1, max_depth=20, n_estimators=50;, score=0.729 total time=   0.0s\n",
      "[CV 5/5] END  learning_rate=1, max_depth=20, n_estimators=50;, score=0.757 total time=   0.0s\n",
      "[CV 1/5] END  learning_rate=1, max_depth=20, n_estimators=100;, score=0.759 total time=   0.0s\n",
      "[CV 2/5] END  learning_rate=1, max_depth=20, n_estimators=100;, score=0.731 total time=   0.0s\n",
      "[CV 3/5] END  learning_rate=1, max_depth=20, n_estimators=100;, score=0.748 total time=   0.0s\n",
      "[CV 4/5] END  learning_rate=1, max_depth=20, n_estimators=100;, score=0.720 total time=   0.0s\n",
      "[CV 5/5] END  learning_rate=1, max_depth=20, n_estimators=100;, score=0.748 total time=   0.0s\n",
      "[CV 1/5] END  learning_rate=1, max_depth=20, n_estimators=200;, score=0.787 total time=   0.1s\n",
      "[CV 2/5] END  learning_rate=1, max_depth=20, n_estimators=200;, score=0.713 total time=   0.1s\n",
      "[CV 3/5] END  learning_rate=1, max_depth=20, n_estimators=200;, score=0.738 total time=   0.1s\n",
      "[CV 4/5] END  learning_rate=1, max_depth=20, n_estimators=200;, score=0.720 total time=   0.1s\n",
      "[CV 5/5] END  learning_rate=1, max_depth=20, n_estimators=200;, score=0.738 total time=   0.2s\n",
      "[CV 1/5] END  learning_rate=0.5, max_depth=3, n_estimators=10;, score=0.778 total time=   0.0s\n",
      "[CV 2/5] END  learning_rate=0.5, max_depth=3, n_estimators=10;, score=0.731 total time=   0.0s\n",
      "[CV 3/5] END  learning_rate=0.5, max_depth=3, n_estimators=10;, score=0.785 total time=   0.0s\n",
      "[CV 4/5] END  learning_rate=0.5, max_depth=3, n_estimators=10;, score=0.692 total time=   0.0s\n",
      "[CV 5/5] END  learning_rate=0.5, max_depth=3, n_estimators=10;, score=0.729 total time=   0.0s\n",
      "[CV 1/5] END  learning_rate=0.5, max_depth=3, n_estimators=50;, score=0.815 total time=   0.0s\n",
      "[CV 2/5] END  learning_rate=0.5, max_depth=3, n_estimators=50;, score=0.731 total time=   0.0s\n",
      "[CV 3/5] END  learning_rate=0.5, max_depth=3, n_estimators=50;, score=0.776 total time=   0.0s\n",
      "[CV 4/5] END  learning_rate=0.5, max_depth=3, n_estimators=50;, score=0.729 total time=   0.0s\n"
     ]
    },
    {
     "name": "stdout",
     "output_type": "stream",
     "text": [
      "[CV 5/5] END  learning_rate=0.5, max_depth=3, n_estimators=50;, score=0.785 total time=   0.0s\n",
      "[CV 1/5] END  learning_rate=0.5, max_depth=3, n_estimators=100;, score=0.815 total time=   0.0s\n",
      "[CV 2/5] END  learning_rate=0.5, max_depth=3, n_estimators=100;, score=0.722 total time=   0.0s\n",
      "[CV 3/5] END  learning_rate=0.5, max_depth=3, n_estimators=100;, score=0.776 total time=   0.0s\n",
      "[CV 4/5] END  learning_rate=0.5, max_depth=3, n_estimators=100;, score=0.720 total time=   0.0s\n",
      "[CV 5/5] END  learning_rate=0.5, max_depth=3, n_estimators=100;, score=0.785 total time=   0.0s\n",
      "[CV 1/5] END  learning_rate=0.5, max_depth=3, n_estimators=200;, score=0.778 total time=   0.0s\n",
      "[CV 2/5] END  learning_rate=0.5, max_depth=3, n_estimators=200;, score=0.741 total time=   0.0s\n",
      "[CV 3/5] END  learning_rate=0.5, max_depth=3, n_estimators=200;, score=0.757 total time=   0.0s\n",
      "[CV 4/5] END  learning_rate=0.5, max_depth=3, n_estimators=200;, score=0.720 total time=   0.0s\n",
      "[CV 5/5] END  learning_rate=0.5, max_depth=3, n_estimators=200;, score=0.757 total time=   0.0s\n",
      "[CV 1/5] END  learning_rate=0.5, max_depth=5, n_estimators=10;, score=0.824 total time=   0.0s\n",
      "[CV 2/5] END  learning_rate=0.5, max_depth=5, n_estimators=10;, score=0.778 total time=   0.0s\n",
      "[CV 3/5] END  learning_rate=0.5, max_depth=5, n_estimators=10;, score=0.776 total time=   0.0s\n",
      "[CV 4/5] END  learning_rate=0.5, max_depth=5, n_estimators=10;, score=0.692 total time=   0.0s\n",
      "[CV 5/5] END  learning_rate=0.5, max_depth=5, n_estimators=10;, score=0.710 total time=   0.0s\n",
      "[CV 1/5] END  learning_rate=0.5, max_depth=5, n_estimators=50;, score=0.833 total time=   0.0s\n",
      "[CV 2/5] END  learning_rate=0.5, max_depth=5, n_estimators=50;, score=0.741 total time=   0.0s\n",
      "[CV 3/5] END  learning_rate=0.5, max_depth=5, n_estimators=50;, score=0.785 total time=   0.0s\n",
      "[CV 4/5] END  learning_rate=0.5, max_depth=5, n_estimators=50;, score=0.738 total time=   0.0s\n",
      "[CV 5/5] END  learning_rate=0.5, max_depth=5, n_estimators=50;, score=0.757 total time=   0.0s\n",
      "[CV 1/5] END  learning_rate=0.5, max_depth=5, n_estimators=100;, score=0.769 total time=   0.0s\n",
      "[CV 2/5] END  learning_rate=0.5, max_depth=5, n_estimators=100;, score=0.750 total time=   0.0s\n",
      "[CV 3/5] END  learning_rate=0.5, max_depth=5, n_estimators=100;, score=0.776 total time=   0.0s\n",
      "[CV 4/5] END  learning_rate=0.5, max_depth=5, n_estimators=100;, score=0.720 total time=   0.0s\n",
      "[CV 5/5] END  learning_rate=0.5, max_depth=5, n_estimators=100;, score=0.748 total time=   0.0s\n",
      "[CV 1/5] END  learning_rate=0.5, max_depth=5, n_estimators=200;, score=0.769 total time=   0.1s\n",
      "[CV 2/5] END  learning_rate=0.5, max_depth=5, n_estimators=200;, score=0.759 total time=   0.1s\n",
      "[CV 3/5] END  learning_rate=0.5, max_depth=5, n_estimators=200;, score=0.776 total time=   0.1s\n",
      "[CV 4/5] END  learning_rate=0.5, max_depth=5, n_estimators=200;, score=0.710 total time=   0.1s\n",
      "[CV 5/5] END  learning_rate=0.5, max_depth=5, n_estimators=200;, score=0.729 total time=   0.1s\n",
      "[CV 1/5] END  learning_rate=0.5, max_depth=10, n_estimators=10;, score=0.796 total time=   0.0s\n",
      "[CV 2/5] END  learning_rate=0.5, max_depth=10, n_estimators=10;, score=0.778 total time=   0.0s\n",
      "[CV 3/5] END  learning_rate=0.5, max_depth=10, n_estimators=10;, score=0.738 total time=   0.0s\n",
      "[CV 4/5] END  learning_rate=0.5, max_depth=10, n_estimators=10;, score=0.729 total time=   0.0s\n",
      "[CV 5/5] END  learning_rate=0.5, max_depth=10, n_estimators=10;, score=0.738 total time=   0.0s\n",
      "[CV 1/5] END  learning_rate=0.5, max_depth=10, n_estimators=50;, score=0.778 total time=   0.0s\n",
      "[CV 2/5] END  learning_rate=0.5, max_depth=10, n_estimators=50;, score=0.741 total time=   0.0s\n",
      "[CV 3/5] END  learning_rate=0.5, max_depth=10, n_estimators=50;, score=0.776 total time=   0.0s\n",
      "[CV 4/5] END  learning_rate=0.5, max_depth=10, n_estimators=50;, score=0.748 total time=   0.0s\n",
      "[CV 5/5] END  learning_rate=0.5, max_depth=10, n_estimators=50;, score=0.748 total time=   0.0s\n",
      "[CV 1/5] END  learning_rate=0.5, max_depth=10, n_estimators=100;, score=0.769 total time=   0.0s\n",
      "[CV 2/5] END  learning_rate=0.5, max_depth=10, n_estimators=100;, score=0.731 total time=   0.0s\n",
      "[CV 3/5] END  learning_rate=0.5, max_depth=10, n_estimators=100;, score=0.776 total time=   0.0s\n",
      "[CV 4/5] END  learning_rate=0.5, max_depth=10, n_estimators=100;, score=0.729 total time=   0.0s\n",
      "[CV 5/5] END  learning_rate=0.5, max_depth=10, n_estimators=100;, score=0.766 total time=   0.0s\n",
      "[CV 1/5] END  learning_rate=0.5, max_depth=10, n_estimators=200;, score=0.769 total time=   0.1s\n",
      "[CV 2/5] END  learning_rate=0.5, max_depth=10, n_estimators=200;, score=0.722 total time=   0.1s\n",
      "[CV 3/5] END  learning_rate=0.5, max_depth=10, n_estimators=200;, score=0.766 total time=   0.1s\n",
      "[CV 4/5] END  learning_rate=0.5, max_depth=10, n_estimators=200;, score=0.738 total time=   0.1s\n",
      "[CV 5/5] END  learning_rate=0.5, max_depth=10, n_estimators=200;, score=0.748 total time=   0.1s\n",
      "[CV 1/5] END  learning_rate=0.5, max_depth=20, n_estimators=10;, score=0.787 total time=   0.0s\n",
      "[CV 2/5] END  learning_rate=0.5, max_depth=20, n_estimators=10;, score=0.778 total time=   0.0s\n",
      "[CV 3/5] END  learning_rate=0.5, max_depth=20, n_estimators=10;, score=0.766 total time=   0.0s\n",
      "[CV 4/5] END  learning_rate=0.5, max_depth=20, n_estimators=10;, score=0.720 total time=   0.0s\n",
      "[CV 5/5] END  learning_rate=0.5, max_depth=20, n_estimators=10;, score=0.738 total time=   0.0s\n",
      "[CV 1/5] END  learning_rate=0.5, max_depth=20, n_estimators=50;, score=0.778 total time=   0.0s\n",
      "[CV 2/5] END  learning_rate=0.5, max_depth=20, n_estimators=50;, score=0.731 total time=   0.0s\n",
      "[CV 3/5] END  learning_rate=0.5, max_depth=20, n_estimators=50;, score=0.776 total time=   0.0s\n",
      "[CV 4/5] END  learning_rate=0.5, max_depth=20, n_estimators=50;, score=0.729 total time=   0.0s\n",
      "[CV 5/5] END  learning_rate=0.5, max_depth=20, n_estimators=50;, score=0.757 total time=   0.0s\n",
      "[CV 1/5] END  learning_rate=0.5, max_depth=20, n_estimators=100;, score=0.759 total time=   0.0s\n",
      "[CV 2/5] END  learning_rate=0.5, max_depth=20, n_estimators=100;, score=0.731 total time=   0.0s\n",
      "[CV 3/5] END  learning_rate=0.5, max_depth=20, n_estimators=100;, score=0.748 total time=   0.0s\n",
      "[CV 4/5] END  learning_rate=0.5, max_depth=20, n_estimators=100;, score=0.720 total time=   0.0s\n",
      "[CV 5/5] END  learning_rate=0.5, max_depth=20, n_estimators=100;, score=0.748 total time=   0.0s\n",
      "[CV 1/5] END  learning_rate=0.5, max_depth=20, n_estimators=200;, score=0.787 total time=   0.1s\n",
      "[CV 2/5] END  learning_rate=0.5, max_depth=20, n_estimators=200;, score=0.713 total time=   0.1s\n",
      "[CV 3/5] END  learning_rate=0.5, max_depth=20, n_estimators=200;, score=0.738 total time=   0.1s\n",
      "[CV 4/5] END  learning_rate=0.5, max_depth=20, n_estimators=200;, score=0.720 total time=   0.1s\n",
      "[CV 5/5] END  learning_rate=0.5, max_depth=20, n_estimators=200;, score=0.738 total time=   0.1s\n",
      "[CV 1/5] END  learning_rate=0.1, max_depth=3, n_estimators=10;, score=0.778 total time=   0.0s\n",
      "[CV 2/5] END  learning_rate=0.1, max_depth=3, n_estimators=10;, score=0.731 total time=   0.0s\n",
      "[CV 3/5] END  learning_rate=0.1, max_depth=3, n_estimators=10;, score=0.785 total time=   0.0s\n",
      "[CV 4/5] END  learning_rate=0.1, max_depth=3, n_estimators=10;, score=0.692 total time=   0.0s\n",
      "[CV 5/5] END  learning_rate=0.1, max_depth=3, n_estimators=10;, score=0.729 total time=   0.0s\n",
      "[CV 1/5] END  learning_rate=0.1, max_depth=3, n_estimators=50;, score=0.815 total time=   0.0s\n",
      "[CV 2/5] END  learning_rate=0.1, max_depth=3, n_estimators=50;, score=0.731 total time=   0.0s\n",
      "[CV 3/5] END  learning_rate=0.1, max_depth=3, n_estimators=50;, score=0.776 total time=   0.0s\n",
      "[CV 4/5] END  learning_rate=0.1, max_depth=3, n_estimators=50;, score=0.729 total time=   0.0s\n",
      "[CV 5/5] END  learning_rate=0.1, max_depth=3, n_estimators=50;, score=0.785 total time=   0.0s\n",
      "[CV 1/5] END  learning_rate=0.1, max_depth=3, n_estimators=100;, score=0.815 total time=   0.0s\n",
      "[CV 2/5] END  learning_rate=0.1, max_depth=3, n_estimators=100;, score=0.722 total time=   0.0s\n",
      "[CV 3/5] END  learning_rate=0.1, max_depth=3, n_estimators=100;, score=0.776 total time=   0.0s\n",
      "[CV 4/5] END  learning_rate=0.1, max_depth=3, n_estimators=100;, score=0.720 total time=   0.0s\n",
      "[CV 5/5] END  learning_rate=0.1, max_depth=3, n_estimators=100;, score=0.785 total time=   0.0s\n",
      "[CV 1/5] END  learning_rate=0.1, max_depth=3, n_estimators=200;, score=0.778 total time=   0.0s\n"
     ]
    },
    {
     "name": "stdout",
     "output_type": "stream",
     "text": [
      "[CV 2/5] END  learning_rate=0.1, max_depth=3, n_estimators=200;, score=0.741 total time=   0.0s\n",
      "[CV 3/5] END  learning_rate=0.1, max_depth=3, n_estimators=200;, score=0.757 total time=   0.0s\n",
      "[CV 4/5] END  learning_rate=0.1, max_depth=3, n_estimators=200;, score=0.720 total time=   0.0s\n",
      "[CV 5/5] END  learning_rate=0.1, max_depth=3, n_estimators=200;, score=0.757 total time=   0.0s\n",
      "[CV 1/5] END  learning_rate=0.1, max_depth=5, n_estimators=10;, score=0.824 total time=   0.0s\n",
      "[CV 2/5] END  learning_rate=0.1, max_depth=5, n_estimators=10;, score=0.778 total time=   0.0s\n",
      "[CV 3/5] END  learning_rate=0.1, max_depth=5, n_estimators=10;, score=0.776 total time=   0.0s\n",
      "[CV 4/5] END  learning_rate=0.1, max_depth=5, n_estimators=10;, score=0.692 total time=   0.0s\n",
      "[CV 5/5] END  learning_rate=0.1, max_depth=5, n_estimators=10;, score=0.710 total time=   0.0s\n",
      "[CV 1/5] END  learning_rate=0.1, max_depth=5, n_estimators=50;, score=0.833 total time=   0.0s\n",
      "[CV 2/5] END  learning_rate=0.1, max_depth=5, n_estimators=50;, score=0.741 total time=   0.0s\n",
      "[CV 3/5] END  learning_rate=0.1, max_depth=5, n_estimators=50;, score=0.785 total time=   0.0s\n",
      "[CV 4/5] END  learning_rate=0.1, max_depth=5, n_estimators=50;, score=0.738 total time=   0.0s\n",
      "[CV 5/5] END  learning_rate=0.1, max_depth=5, n_estimators=50;, score=0.757 total time=   0.0s\n",
      "[CV 1/5] END  learning_rate=0.1, max_depth=5, n_estimators=100;, score=0.769 total time=   0.0s\n",
      "[CV 2/5] END  learning_rate=0.1, max_depth=5, n_estimators=100;, score=0.750 total time=   0.0s\n",
      "[CV 3/5] END  learning_rate=0.1, max_depth=5, n_estimators=100;, score=0.776 total time=   0.0s\n",
      "[CV 4/5] END  learning_rate=0.1, max_depth=5, n_estimators=100;, score=0.720 total time=   0.0s\n",
      "[CV 5/5] END  learning_rate=0.1, max_depth=5, n_estimators=100;, score=0.748 total time=   0.0s\n",
      "[CV 1/5] END  learning_rate=0.1, max_depth=5, n_estimators=200;, score=0.769 total time=   0.1s\n",
      "[CV 2/5] END  learning_rate=0.1, max_depth=5, n_estimators=200;, score=0.759 total time=   0.1s\n",
      "[CV 3/5] END  learning_rate=0.1, max_depth=5, n_estimators=200;, score=0.776 total time=   0.1s\n",
      "[CV 4/5] END  learning_rate=0.1, max_depth=5, n_estimators=200;, score=0.710 total time=   0.1s\n",
      "[CV 5/5] END  learning_rate=0.1, max_depth=5, n_estimators=200;, score=0.729 total time=   0.1s\n",
      "[CV 1/5] END  learning_rate=0.1, max_depth=10, n_estimators=10;, score=0.796 total time=   0.0s\n",
      "[CV 2/5] END  learning_rate=0.1, max_depth=10, n_estimators=10;, score=0.778 total time=   0.0s\n",
      "[CV 3/5] END  learning_rate=0.1, max_depth=10, n_estimators=10;, score=0.738 total time=   0.0s\n",
      "[CV 4/5] END  learning_rate=0.1, max_depth=10, n_estimators=10;, score=0.729 total time=   0.0s\n",
      "[CV 5/5] END  learning_rate=0.1, max_depth=10, n_estimators=10;, score=0.738 total time=   0.0s\n",
      "[CV 1/5] END  learning_rate=0.1, max_depth=10, n_estimators=50;, score=0.778 total time=   0.0s\n",
      "[CV 2/5] END  learning_rate=0.1, max_depth=10, n_estimators=50;, score=0.741 total time=   0.0s\n",
      "[CV 3/5] END  learning_rate=0.1, max_depth=10, n_estimators=50;, score=0.776 total time=   0.0s\n",
      "[CV 4/5] END  learning_rate=0.1, max_depth=10, n_estimators=50;, score=0.748 total time=   0.0s\n",
      "[CV 5/5] END  learning_rate=0.1, max_depth=10, n_estimators=50;, score=0.748 total time=   0.0s\n",
      "[CV 1/5] END  learning_rate=0.1, max_depth=10, n_estimators=100;, score=0.769 total time=   0.0s\n",
      "[CV 2/5] END  learning_rate=0.1, max_depth=10, n_estimators=100;, score=0.731 total time=   0.0s\n",
      "[CV 3/5] END  learning_rate=0.1, max_depth=10, n_estimators=100;, score=0.776 total time=   0.0s\n",
      "[CV 4/5] END  learning_rate=0.1, max_depth=10, n_estimators=100;, score=0.729 total time=   0.0s\n",
      "[CV 5/5] END  learning_rate=0.1, max_depth=10, n_estimators=100;, score=0.766 total time=   0.0s\n",
      "[CV 1/5] END  learning_rate=0.1, max_depth=10, n_estimators=200;, score=0.769 total time=   0.1s\n",
      "[CV 2/5] END  learning_rate=0.1, max_depth=10, n_estimators=200;, score=0.722 total time=   0.1s\n",
      "[CV 3/5] END  learning_rate=0.1, max_depth=10, n_estimators=200;, score=0.766 total time=   0.1s\n",
      "[CV 4/5] END  learning_rate=0.1, max_depth=10, n_estimators=200;, score=0.738 total time=   0.1s\n",
      "[CV 5/5] END  learning_rate=0.1, max_depth=10, n_estimators=200;, score=0.748 total time=   0.1s\n",
      "[CV 1/5] END  learning_rate=0.1, max_depth=20, n_estimators=10;, score=0.787 total time=   0.0s\n",
      "[CV 2/5] END  learning_rate=0.1, max_depth=20, n_estimators=10;, score=0.778 total time=   0.0s\n",
      "[CV 3/5] END  learning_rate=0.1, max_depth=20, n_estimators=10;, score=0.766 total time=   0.0s\n",
      "[CV 4/5] END  learning_rate=0.1, max_depth=20, n_estimators=10;, score=0.720 total time=   0.0s\n",
      "[CV 5/5] END  learning_rate=0.1, max_depth=20, n_estimators=10;, score=0.738 total time=   0.0s\n",
      "[CV 1/5] END  learning_rate=0.1, max_depth=20, n_estimators=50;, score=0.778 total time=   0.0s\n",
      "[CV 2/5] END  learning_rate=0.1, max_depth=20, n_estimators=50;, score=0.731 total time=   0.0s\n",
      "[CV 3/5] END  learning_rate=0.1, max_depth=20, n_estimators=50;, score=0.776 total time=   0.0s\n",
      "[CV 4/5] END  learning_rate=0.1, max_depth=20, n_estimators=50;, score=0.729 total time=   0.0s\n",
      "[CV 5/5] END  learning_rate=0.1, max_depth=20, n_estimators=50;, score=0.757 total time=   0.0s\n",
      "[CV 1/5] END  learning_rate=0.1, max_depth=20, n_estimators=100;, score=0.759 total time=   0.0s\n",
      "[CV 2/5] END  learning_rate=0.1, max_depth=20, n_estimators=100;, score=0.731 total time=   0.0s\n",
      "[CV 3/5] END  learning_rate=0.1, max_depth=20, n_estimators=100;, score=0.748 total time=   0.0s\n",
      "[CV 4/5] END  learning_rate=0.1, max_depth=20, n_estimators=100;, score=0.720 total time=   0.0s\n",
      "[CV 5/5] END  learning_rate=0.1, max_depth=20, n_estimators=100;, score=0.748 total time=   0.0s\n",
      "[CV 1/5] END  learning_rate=0.1, max_depth=20, n_estimators=200;, score=0.787 total time=   0.1s\n",
      "[CV 2/5] END  learning_rate=0.1, max_depth=20, n_estimators=200;, score=0.713 total time=   0.1s\n",
      "[CV 3/5] END  learning_rate=0.1, max_depth=20, n_estimators=200;, score=0.738 total time=   0.1s\n",
      "[CV 4/5] END  learning_rate=0.1, max_depth=20, n_estimators=200;, score=0.720 total time=   0.1s\n",
      "[CV 5/5] END  learning_rate=0.1, max_depth=20, n_estimators=200;, score=0.738 total time=   0.1s\n",
      "[CV 1/5] END  learning_rate=0.01, max_depth=3, n_estimators=10;, score=0.778 total time=   0.0s\n",
      "[CV 2/5] END  learning_rate=0.01, max_depth=3, n_estimators=10;, score=0.731 total time=   0.0s\n",
      "[CV 3/5] END  learning_rate=0.01, max_depth=3, n_estimators=10;, score=0.785 total time=   0.0s\n",
      "[CV 4/5] END  learning_rate=0.01, max_depth=3, n_estimators=10;, score=0.692 total time=   0.0s\n",
      "[CV 5/5] END  learning_rate=0.01, max_depth=3, n_estimators=10;, score=0.729 total time=   0.0s\n",
      "[CV 1/5] END  learning_rate=0.01, max_depth=3, n_estimators=50;, score=0.815 total time=   0.0s\n",
      "[CV 2/5] END  learning_rate=0.01, max_depth=3, n_estimators=50;, score=0.731 total time=   0.0s\n",
      "[CV 3/5] END  learning_rate=0.01, max_depth=3, n_estimators=50;, score=0.776 total time=   0.0s\n",
      "[CV 4/5] END  learning_rate=0.01, max_depth=3, n_estimators=50;, score=0.729 total time=   0.0s\n",
      "[CV 5/5] END  learning_rate=0.01, max_depth=3, n_estimators=50;, score=0.785 total time=   0.0s\n",
      "[CV 1/5] END  learning_rate=0.01, max_depth=3, n_estimators=100;, score=0.815 total time=   0.0s\n",
      "[CV 2/5] END  learning_rate=0.01, max_depth=3, n_estimators=100;, score=0.722 total time=   0.0s\n",
      "[CV 3/5] END  learning_rate=0.01, max_depth=3, n_estimators=100;, score=0.776 total time=   0.0s\n",
      "[CV 4/5] END  learning_rate=0.01, max_depth=3, n_estimators=100;, score=0.720 total time=   0.0s\n",
      "[CV 5/5] END  learning_rate=0.01, max_depth=3, n_estimators=100;, score=0.785 total time=   0.0s\n",
      "[CV 1/5] END  learning_rate=0.01, max_depth=3, n_estimators=200;, score=0.778 total time=   0.0s\n",
      "[CV 2/5] END  learning_rate=0.01, max_depth=3, n_estimators=200;, score=0.741 total time=   0.0s\n",
      "[CV 3/5] END  learning_rate=0.01, max_depth=3, n_estimators=200;, score=0.757 total time=   0.0s\n",
      "[CV 4/5] END  learning_rate=0.01, max_depth=3, n_estimators=200;, score=0.720 total time=   0.0s\n",
      "[CV 5/5] END  learning_rate=0.01, max_depth=3, n_estimators=200;, score=0.757 total time=   0.0s\n",
      "[CV 1/5] END  learning_rate=0.01, max_depth=5, n_estimators=10;, score=0.824 total time=   0.0s\n",
      "[CV 2/5] END  learning_rate=0.01, max_depth=5, n_estimators=10;, score=0.778 total time=   0.0s\n",
      "[CV 3/5] END  learning_rate=0.01, max_depth=5, n_estimators=10;, score=0.776 total time=   0.0s\n",
      "[CV 4/5] END  learning_rate=0.01, max_depth=5, n_estimators=10;, score=0.692 total time=   0.0s\n",
      "[CV 5/5] END  learning_rate=0.01, max_depth=5, n_estimators=10;, score=0.710 total time=   0.0s\n",
      "[CV 1/5] END  learning_rate=0.01, max_depth=5, n_estimators=50;, score=0.833 total time=   0.0s\n",
      "[CV 2/5] END  learning_rate=0.01, max_depth=5, n_estimators=50;, score=0.741 total time=   0.0s\n",
      "[CV 3/5] END  learning_rate=0.01, max_depth=5, n_estimators=50;, score=0.785 total time=   0.0s\n"
     ]
    },
    {
     "name": "stdout",
     "output_type": "stream",
     "text": [
      "[CV 4/5] END  learning_rate=0.01, max_depth=5, n_estimators=50;, score=0.738 total time=   0.0s\n",
      "[CV 5/5] END  learning_rate=0.01, max_depth=5, n_estimators=50;, score=0.757 total time=   0.0s\n",
      "[CV 1/5] END  learning_rate=0.01, max_depth=5, n_estimators=100;, score=0.769 total time=   0.0s\n",
      "[CV 2/5] END  learning_rate=0.01, max_depth=5, n_estimators=100;, score=0.750 total time=   0.0s\n",
      "[CV 3/5] END  learning_rate=0.01, max_depth=5, n_estimators=100;, score=0.776 total time=   0.0s\n",
      "[CV 4/5] END  learning_rate=0.01, max_depth=5, n_estimators=100;, score=0.720 total time=   0.0s\n",
      "[CV 5/5] END  learning_rate=0.01, max_depth=5, n_estimators=100;, score=0.748 total time=   0.0s\n",
      "[CV 1/5] END  learning_rate=0.01, max_depth=5, n_estimators=200;, score=0.769 total time=   0.1s\n",
      "[CV 2/5] END  learning_rate=0.01, max_depth=5, n_estimators=200;, score=0.759 total time=   0.1s\n",
      "[CV 3/5] END  learning_rate=0.01, max_depth=5, n_estimators=200;, score=0.776 total time=   0.1s\n",
      "[CV 4/5] END  learning_rate=0.01, max_depth=5, n_estimators=200;, score=0.710 total time=   0.1s\n",
      "[CV 5/5] END  learning_rate=0.01, max_depth=5, n_estimators=200;, score=0.729 total time=   0.1s\n",
      "[CV 1/5] END  learning_rate=0.01, max_depth=10, n_estimators=10;, score=0.796 total time=   0.0s\n",
      "[CV 2/5] END  learning_rate=0.01, max_depth=10, n_estimators=10;, score=0.778 total time=   0.0s\n",
      "[CV 3/5] END  learning_rate=0.01, max_depth=10, n_estimators=10;, score=0.738 total time=   0.0s\n",
      "[CV 4/5] END  learning_rate=0.01, max_depth=10, n_estimators=10;, score=0.729 total time=   0.0s\n",
      "[CV 5/5] END  learning_rate=0.01, max_depth=10, n_estimators=10;, score=0.738 total time=   0.0s\n",
      "[CV 1/5] END  learning_rate=0.01, max_depth=10, n_estimators=50;, score=0.778 total time=   0.0s\n",
      "[CV 2/5] END  learning_rate=0.01, max_depth=10, n_estimators=50;, score=0.741 total time=   0.0s\n",
      "[CV 3/5] END  learning_rate=0.01, max_depth=10, n_estimators=50;, score=0.776 total time=   0.0s\n",
      "[CV 4/5] END  learning_rate=0.01, max_depth=10, n_estimators=50;, score=0.748 total time=   0.0s\n",
      "[CV 5/5] END  learning_rate=0.01, max_depth=10, n_estimators=50;, score=0.748 total time=   0.0s\n",
      "[CV 1/5] END  learning_rate=0.01, max_depth=10, n_estimators=100;, score=0.769 total time=   0.0s\n",
      "[CV 2/5] END  learning_rate=0.01, max_depth=10, n_estimators=100;, score=0.731 total time=   0.0s\n",
      "[CV 3/5] END  learning_rate=0.01, max_depth=10, n_estimators=100;, score=0.776 total time=   0.0s\n",
      "[CV 4/5] END  learning_rate=0.01, max_depth=10, n_estimators=100;, score=0.729 total time=   0.0s\n",
      "[CV 5/5] END  learning_rate=0.01, max_depth=10, n_estimators=100;, score=0.766 total time=   0.0s\n",
      "[CV 1/5] END  learning_rate=0.01, max_depth=10, n_estimators=200;, score=0.769 total time=   0.1s\n",
      "[CV 2/5] END  learning_rate=0.01, max_depth=10, n_estimators=200;, score=0.722 total time=   0.1s\n",
      "[CV 3/5] END  learning_rate=0.01, max_depth=10, n_estimators=200;, score=0.766 total time=   0.1s\n",
      "[CV 4/5] END  learning_rate=0.01, max_depth=10, n_estimators=200;, score=0.738 total time=   0.1s\n",
      "[CV 5/5] END  learning_rate=0.01, max_depth=10, n_estimators=200;, score=0.748 total time=   0.1s\n",
      "[CV 1/5] END  learning_rate=0.01, max_depth=20, n_estimators=10;, score=0.787 total time=   0.0s\n",
      "[CV 2/5] END  learning_rate=0.01, max_depth=20, n_estimators=10;, score=0.778 total time=   0.0s\n",
      "[CV 3/5] END  learning_rate=0.01, max_depth=20, n_estimators=10;, score=0.766 total time=   0.0s\n",
      "[CV 4/5] END  learning_rate=0.01, max_depth=20, n_estimators=10;, score=0.720 total time=   0.0s\n",
      "[CV 5/5] END  learning_rate=0.01, max_depth=20, n_estimators=10;, score=0.738 total time=   0.0s\n",
      "[CV 1/5] END  learning_rate=0.01, max_depth=20, n_estimators=50;, score=0.778 total time=   0.0s\n",
      "[CV 2/5] END  learning_rate=0.01, max_depth=20, n_estimators=50;, score=0.731 total time=   0.0s\n",
      "[CV 3/5] END  learning_rate=0.01, max_depth=20, n_estimators=50;, score=0.776 total time=   0.0s\n",
      "[CV 4/5] END  learning_rate=0.01, max_depth=20, n_estimators=50;, score=0.729 total time=   0.0s\n",
      "[CV 5/5] END  learning_rate=0.01, max_depth=20, n_estimators=50;, score=0.757 total time=   0.0s\n",
      "[CV 1/5] END  learning_rate=0.01, max_depth=20, n_estimators=100;, score=0.759 total time=   0.0s\n",
      "[CV 2/5] END  learning_rate=0.01, max_depth=20, n_estimators=100;, score=0.731 total time=   0.0s\n",
      "[CV 3/5] END  learning_rate=0.01, max_depth=20, n_estimators=100;, score=0.748 total time=   0.0s\n",
      "[CV 4/5] END  learning_rate=0.01, max_depth=20, n_estimators=100;, score=0.720 total time=   0.0s\n",
      "[CV 5/5] END  learning_rate=0.01, max_depth=20, n_estimators=100;, score=0.748 total time=   0.0s\n",
      "[CV 1/5] END  learning_rate=0.01, max_depth=20, n_estimators=200;, score=0.787 total time=   0.1s\n",
      "[CV 2/5] END  learning_rate=0.01, max_depth=20, n_estimators=200;, score=0.713 total time=   0.1s\n",
      "[CV 3/5] END  learning_rate=0.01, max_depth=20, n_estimators=200;, score=0.738 total time=   0.1s\n",
      "[CV 4/5] END  learning_rate=0.01, max_depth=20, n_estimators=200;, score=0.720 total time=   0.1s\n",
      "[CV 5/5] END  learning_rate=0.01, max_depth=20, n_estimators=200;, score=0.738 total time=   0.1s\n",
      "[CV 1/5] END  learning_rate=0.001, max_depth=3, n_estimators=10;, score=0.778 total time=   0.0s\n",
      "[CV 2/5] END  learning_rate=0.001, max_depth=3, n_estimators=10;, score=0.731 total time=   0.0s\n",
      "[CV 3/5] END  learning_rate=0.001, max_depth=3, n_estimators=10;, score=0.785 total time=   0.0s\n",
      "[CV 4/5] END  learning_rate=0.001, max_depth=3, n_estimators=10;, score=0.692 total time=   0.0s\n",
      "[CV 5/5] END  learning_rate=0.001, max_depth=3, n_estimators=10;, score=0.729 total time=   0.0s\n",
      "[CV 1/5] END  learning_rate=0.001, max_depth=3, n_estimators=50;, score=0.815 total time=   0.0s\n",
      "[CV 2/5] END  learning_rate=0.001, max_depth=3, n_estimators=50;, score=0.731 total time=   0.0s\n",
      "[CV 3/5] END  learning_rate=0.001, max_depth=3, n_estimators=50;, score=0.776 total time=   0.0s\n",
      "[CV 4/5] END  learning_rate=0.001, max_depth=3, n_estimators=50;, score=0.729 total time=   0.0s\n",
      "[CV 5/5] END  learning_rate=0.001, max_depth=3, n_estimators=50;, score=0.785 total time=   0.0s\n",
      "[CV 1/5] END  learning_rate=0.001, max_depth=3, n_estimators=100;, score=0.815 total time=   0.0s\n",
      "[CV 2/5] END  learning_rate=0.001, max_depth=3, n_estimators=100;, score=0.722 total time=   0.0s\n",
      "[CV 3/5] END  learning_rate=0.001, max_depth=3, n_estimators=100;, score=0.776 total time=   0.0s\n",
      "[CV 4/5] END  learning_rate=0.001, max_depth=3, n_estimators=100;, score=0.720 total time=   0.0s\n",
      "[CV 5/5] END  learning_rate=0.001, max_depth=3, n_estimators=100;, score=0.785 total time=   0.0s\n",
      "[CV 1/5] END  learning_rate=0.001, max_depth=3, n_estimators=200;, score=0.778 total time=   0.0s\n",
      "[CV 2/5] END  learning_rate=0.001, max_depth=3, n_estimators=200;, score=0.741 total time=   0.0s\n",
      "[CV 3/5] END  learning_rate=0.001, max_depth=3, n_estimators=200;, score=0.757 total time=   0.0s\n",
      "[CV 4/5] END  learning_rate=0.001, max_depth=3, n_estimators=200;, score=0.720 total time=   0.0s\n",
      "[CV 5/5] END  learning_rate=0.001, max_depth=3, n_estimators=200;, score=0.757 total time=   0.0s\n",
      "[CV 1/5] END  learning_rate=0.001, max_depth=5, n_estimators=10;, score=0.824 total time=   0.0s\n",
      "[CV 2/5] END  learning_rate=0.001, max_depth=5, n_estimators=10;, score=0.778 total time=   0.0s\n",
      "[CV 3/5] END  learning_rate=0.001, max_depth=5, n_estimators=10;, score=0.776 total time=   0.0s\n",
      "[CV 4/5] END  learning_rate=0.001, max_depth=5, n_estimators=10;, score=0.692 total time=   0.0s\n",
      "[CV 5/5] END  learning_rate=0.001, max_depth=5, n_estimators=10;, score=0.710 total time=   0.0s\n",
      "[CV 1/5] END  learning_rate=0.001, max_depth=5, n_estimators=50;, score=0.833 total time=   0.0s\n",
      "[CV 2/5] END  learning_rate=0.001, max_depth=5, n_estimators=50;, score=0.741 total time=   0.0s\n",
      "[CV 3/5] END  learning_rate=0.001, max_depth=5, n_estimators=50;, score=0.785 total time=   0.0s\n",
      "[CV 4/5] END  learning_rate=0.001, max_depth=5, n_estimators=50;, score=0.738 total time=   0.0s\n",
      "[CV 5/5] END  learning_rate=0.001, max_depth=5, n_estimators=50;, score=0.757 total time=   0.0s\n",
      "[CV 1/5] END  learning_rate=0.001, max_depth=5, n_estimators=100;, score=0.769 total time=   0.0s\n",
      "[CV 2/5] END  learning_rate=0.001, max_depth=5, n_estimators=100;, score=0.750 total time=   0.0s\n",
      "[CV 3/5] END  learning_rate=0.001, max_depth=5, n_estimators=100;, score=0.776 total time=   0.0s\n",
      "[CV 4/5] END  learning_rate=0.001, max_depth=5, n_estimators=100;, score=0.720 total time=   0.0s\n",
      "[CV 5/5] END  learning_rate=0.001, max_depth=5, n_estimators=100;, score=0.748 total time=   0.0s\n"
     ]
    },
    {
     "name": "stdout",
     "output_type": "stream",
     "text": [
      "[CV 1/5] END  learning_rate=0.001, max_depth=5, n_estimators=200;, score=0.769 total time=   0.1s\n",
      "[CV 2/5] END  learning_rate=0.001, max_depth=5, n_estimators=200;, score=0.759 total time=   0.1s\n",
      "[CV 3/5] END  learning_rate=0.001, max_depth=5, n_estimators=200;, score=0.776 total time=   0.1s\n",
      "[CV 4/5] END  learning_rate=0.001, max_depth=5, n_estimators=200;, score=0.710 total time=   0.1s\n",
      "[CV 5/5] END  learning_rate=0.001, max_depth=5, n_estimators=200;, score=0.729 total time=   0.1s\n",
      "[CV 1/5] END  learning_rate=0.001, max_depth=10, n_estimators=10;, score=0.796 total time=   0.0s\n",
      "[CV 2/5] END  learning_rate=0.001, max_depth=10, n_estimators=10;, score=0.778 total time=   0.0s\n",
      "[CV 3/5] END  learning_rate=0.001, max_depth=10, n_estimators=10;, score=0.738 total time=   0.0s\n",
      "[CV 4/5] END  learning_rate=0.001, max_depth=10, n_estimators=10;, score=0.729 total time=   0.0s\n",
      "[CV 5/5] END  learning_rate=0.001, max_depth=10, n_estimators=10;, score=0.738 total time=   0.0s\n",
      "[CV 1/5] END  learning_rate=0.001, max_depth=10, n_estimators=50;, score=0.778 total time=   0.0s\n",
      "[CV 2/5] END  learning_rate=0.001, max_depth=10, n_estimators=50;, score=0.741 total time=   0.0s\n",
      "[CV 3/5] END  learning_rate=0.001, max_depth=10, n_estimators=50;, score=0.776 total time=   0.0s\n",
      "[CV 4/5] END  learning_rate=0.001, max_depth=10, n_estimators=50;, score=0.748 total time=   0.0s\n",
      "[CV 5/5] END  learning_rate=0.001, max_depth=10, n_estimators=50;, score=0.748 total time=   0.0s\n",
      "[CV 1/5] END  learning_rate=0.001, max_depth=10, n_estimators=100;, score=0.769 total time=   0.0s\n",
      "[CV 2/5] END  learning_rate=0.001, max_depth=10, n_estimators=100;, score=0.731 total time=   0.0s\n",
      "[CV 3/5] END  learning_rate=0.001, max_depth=10, n_estimators=100;, score=0.776 total time=   0.0s\n",
      "[CV 4/5] END  learning_rate=0.001, max_depth=10, n_estimators=100;, score=0.729 total time=   0.0s\n",
      "[CV 5/5] END  learning_rate=0.001, max_depth=10, n_estimators=100;, score=0.766 total time=   0.0s\n",
      "[CV 1/5] END  learning_rate=0.001, max_depth=10, n_estimators=200;, score=0.769 total time=   0.1s\n",
      "[CV 2/5] END  learning_rate=0.001, max_depth=10, n_estimators=200;, score=0.722 total time=   0.1s\n",
      "[CV 3/5] END  learning_rate=0.001, max_depth=10, n_estimators=200;, score=0.766 total time=   0.1s\n",
      "[CV 4/5] END  learning_rate=0.001, max_depth=10, n_estimators=200;, score=0.738 total time=   0.1s\n",
      "[CV 5/5] END  learning_rate=0.001, max_depth=10, n_estimators=200;, score=0.748 total time=   0.1s\n",
      "[CV 1/5] END  learning_rate=0.001, max_depth=20, n_estimators=10;, score=0.787 total time=   0.0s\n",
      "[CV 2/5] END  learning_rate=0.001, max_depth=20, n_estimators=10;, score=0.778 total time=   0.0s\n",
      "[CV 3/5] END  learning_rate=0.001, max_depth=20, n_estimators=10;, score=0.766 total time=   0.0s\n",
      "[CV 4/5] END  learning_rate=0.001, max_depth=20, n_estimators=10;, score=0.720 total time=   0.0s\n",
      "[CV 5/5] END  learning_rate=0.001, max_depth=20, n_estimators=10;, score=0.738 total time=   0.0s\n",
      "[CV 1/5] END  learning_rate=0.001, max_depth=20, n_estimators=50;, score=0.778 total time=   0.0s\n",
      "[CV 2/5] END  learning_rate=0.001, max_depth=20, n_estimators=50;, score=0.731 total time=   0.0s\n",
      "[CV 3/5] END  learning_rate=0.001, max_depth=20, n_estimators=50;, score=0.776 total time=   0.0s\n",
      "[CV 4/5] END  learning_rate=0.001, max_depth=20, n_estimators=50;, score=0.729 total time=   0.0s\n",
      "[CV 5/5] END  learning_rate=0.001, max_depth=20, n_estimators=50;, score=0.757 total time=   0.0s\n",
      "[CV 1/5] END  learning_rate=0.001, max_depth=20, n_estimators=100;, score=0.759 total time=   0.0s\n",
      "[CV 2/5] END  learning_rate=0.001, max_depth=20, n_estimators=100;, score=0.731 total time=   0.0s\n",
      "[CV 3/5] END  learning_rate=0.001, max_depth=20, n_estimators=100;, score=0.748 total time=   0.0s\n",
      "[CV 4/5] END  learning_rate=0.001, max_depth=20, n_estimators=100;, score=0.720 total time=   0.0s\n",
      "[CV 5/5] END  learning_rate=0.001, max_depth=20, n_estimators=100;, score=0.748 total time=   0.0s\n",
      "[CV 1/5] END  learning_rate=0.001, max_depth=20, n_estimators=200;, score=0.787 total time=   0.1s\n",
      "[CV 2/5] END  learning_rate=0.001, max_depth=20, n_estimators=200;, score=0.713 total time=   0.1s\n",
      "[CV 3/5] END  learning_rate=0.001, max_depth=20, n_estimators=200;, score=0.738 total time=   0.1s\n",
      "[CV 4/5] END  learning_rate=0.001, max_depth=20, n_estimators=200;, score=0.720 total time=   0.1s\n",
      "[CV 5/5] END  learning_rate=0.001, max_depth=20, n_estimators=200;, score=0.738 total time=   0.1s\n"
     ]
    },
    {
     "data": {
      "text/html": [
       "<style>#sk-container-id-2 {color: black;background-color: white;}#sk-container-id-2 pre{padding: 0;}#sk-container-id-2 div.sk-toggleable {background-color: white;}#sk-container-id-2 label.sk-toggleable__label {cursor: pointer;display: block;width: 100%;margin-bottom: 0;padding: 0.3em;box-sizing: border-box;text-align: center;}#sk-container-id-2 label.sk-toggleable__label-arrow:before {content: \"▸\";float: left;margin-right: 0.25em;color: #696969;}#sk-container-id-2 label.sk-toggleable__label-arrow:hover:before {color: black;}#sk-container-id-2 div.sk-estimator:hover label.sk-toggleable__label-arrow:before {color: black;}#sk-container-id-2 div.sk-toggleable__content {max-height: 0;max-width: 0;overflow: hidden;text-align: left;background-color: #f0f8ff;}#sk-container-id-2 div.sk-toggleable__content pre {margin: 0.2em;color: black;border-radius: 0.25em;background-color: #f0f8ff;}#sk-container-id-2 input.sk-toggleable__control:checked~div.sk-toggleable__content {max-height: 200px;max-width: 100%;overflow: auto;}#sk-container-id-2 input.sk-toggleable__control:checked~label.sk-toggleable__label-arrow:before {content: \"▾\";}#sk-container-id-2 div.sk-estimator input.sk-toggleable__control:checked~label.sk-toggleable__label {background-color: #d4ebff;}#sk-container-id-2 div.sk-label input.sk-toggleable__control:checked~label.sk-toggleable__label {background-color: #d4ebff;}#sk-container-id-2 input.sk-hidden--visually {border: 0;clip: rect(1px 1px 1px 1px);clip: rect(1px, 1px, 1px, 1px);height: 1px;margin: -1px;overflow: hidden;padding: 0;position: absolute;width: 1px;}#sk-container-id-2 div.sk-estimator {font-family: monospace;background-color: #f0f8ff;border: 1px dotted black;border-radius: 0.25em;box-sizing: border-box;margin-bottom: 0.5em;}#sk-container-id-2 div.sk-estimator:hover {background-color: #d4ebff;}#sk-container-id-2 div.sk-parallel-item::after {content: \"\";width: 100%;border-bottom: 1px solid gray;flex-grow: 1;}#sk-container-id-2 div.sk-label:hover label.sk-toggleable__label {background-color: #d4ebff;}#sk-container-id-2 div.sk-serial::before {content: \"\";position: absolute;border-left: 1px solid gray;box-sizing: border-box;top: 0;bottom: 0;left: 50%;z-index: 0;}#sk-container-id-2 div.sk-serial {display: flex;flex-direction: column;align-items: center;background-color: white;padding-right: 0.2em;padding-left: 0.2em;position: relative;}#sk-container-id-2 div.sk-item {position: relative;z-index: 1;}#sk-container-id-2 div.sk-parallel {display: flex;align-items: stretch;justify-content: center;background-color: white;position: relative;}#sk-container-id-2 div.sk-item::before, #sk-container-id-2 div.sk-parallel-item::before {content: \"\";position: absolute;border-left: 1px solid gray;box-sizing: border-box;top: 0;bottom: 0;left: 50%;z-index: -1;}#sk-container-id-2 div.sk-parallel-item {display: flex;flex-direction: column;z-index: 1;position: relative;background-color: white;}#sk-container-id-2 div.sk-parallel-item:first-child::after {align-self: flex-end;width: 50%;}#sk-container-id-2 div.sk-parallel-item:last-child::after {align-self: flex-start;width: 50%;}#sk-container-id-2 div.sk-parallel-item:only-child::after {width: 0;}#sk-container-id-2 div.sk-dashed-wrapped {border: 1px dashed gray;margin: 0 0.4em 0.5em 0.4em;box-sizing: border-box;padding-bottom: 0.4em;background-color: white;}#sk-container-id-2 div.sk-label label {font-family: monospace;font-weight: bold;display: inline-block;line-height: 1.2em;}#sk-container-id-2 div.sk-label-container {text-align: center;}#sk-container-id-2 div.sk-container {/* jupyter's `normalize.less` sets `[hidden] { display: none; }` but bootstrap.min.css set `[hidden] { display: none !important; }` so we also need the `!important` here to be able to override the default hidden behavior on the sphinx rendered scikit-learn.org. See: https://github.com/scikit-learn/scikit-learn/issues/21755 */display: inline-block !important;position: relative;}#sk-container-id-2 div.sk-text-repr-fallback {display: none;}</style><div id=\"sk-container-id-2\" class=\"sk-top-container\"><div class=\"sk-text-repr-fallback\"><pre>GridSearchCV(estimator=XGBClassifier(),\n",
       "             param_grid={&#x27; learning_rate&#x27;: [1, 0.5, 0.1, 0.01, 0.001],\n",
       "                         &#x27;max_depth&#x27;: [3, 5, 10, 20],\n",
       "                         &#x27;n_estimators&#x27;: [10, 50, 100, 200]},\n",
       "             verbose=3)</pre><b>In a Jupyter environment, please rerun this cell to show the HTML representation or trust the notebook. <br />On GitHub, the HTML representation is unable to render, please try loading this page with nbviewer.org.</b></div><div class=\"sk-container\" hidden><div class=\"sk-item sk-dashed-wrapped\"><div class=\"sk-label-container\"><div class=\"sk-label sk-toggleable\"><input class=\"sk-toggleable__control sk-hidden--visually\" id=\"sk-estimator-id-2\" type=\"checkbox\" ><label for=\"sk-estimator-id-2\" class=\"sk-toggleable__label sk-toggleable__label-arrow\">GridSearchCV</label><div class=\"sk-toggleable__content\"><pre>GridSearchCV(estimator=XGBClassifier(),\n",
       "             param_grid={&#x27; learning_rate&#x27;: [1, 0.5, 0.1, 0.01, 0.001],\n",
       "                         &#x27;max_depth&#x27;: [3, 5, 10, 20],\n",
       "                         &#x27;n_estimators&#x27;: [10, 50, 100, 200]},\n",
       "             verbose=3)</pre></div></div></div><div class=\"sk-parallel\"><div class=\"sk-parallel-item\"><div class=\"sk-item\"><div class=\"sk-label-container\"><div class=\"sk-label sk-toggleable\"><input class=\"sk-toggleable__control sk-hidden--visually\" id=\"sk-estimator-id-3\" type=\"checkbox\" ><label for=\"sk-estimator-id-3\" class=\"sk-toggleable__label sk-toggleable__label-arrow\">estimator: XGBClassifier</label><div class=\"sk-toggleable__content\"><pre>XGBClassifier()</pre></div></div></div><div class=\"sk-serial\"><div class=\"sk-item\"><div class=\"sk-estimator sk-toggleable\"><input class=\"sk-toggleable__control sk-hidden--visually\" id=\"sk-estimator-id-4\" type=\"checkbox\" ><label for=\"sk-estimator-id-4\" class=\"sk-toggleable__label sk-toggleable__label-arrow\">XGBClassifier</label><div class=\"sk-toggleable__content\"><pre>XGBClassifier()</pre></div></div></div></div></div></div></div></div></div></div>"
      ],
      "text/plain": [
       "GridSearchCV(estimator=XGBClassifier(),\n",
       "             param_grid={' learning_rate': [1, 0.5, 0.1, 0.01, 0.001],\n",
       "                         'max_depth': [3, 5, 10, 20],\n",
       "                         'n_estimators': [10, 50, 100, 200]},\n",
       "             verbose=3)"
      ]
     },
     "execution_count": 52,
     "metadata": {},
     "output_type": "execute_result"
    }
   ],
   "source": [
    "grid.fit(X_train, y_train)"
   ]
  },
  {
   "cell_type": "code",
   "execution_count": 53,
   "id": "c8f462e2",
   "metadata": {},
   "outputs": [
    {
     "data": {
      "text/plain": [
       "{' learning_rate': 1, 'max_depth': 5, 'n_estimators': 50}"
      ]
     },
     "execution_count": 53,
     "metadata": {},
     "output_type": "execute_result"
    }
   ],
   "source": [
    "grid.best_params_"
   ]
  },
  {
   "cell_type": "code",
   "execution_count": 55,
   "id": "b2eeb141",
   "metadata": {},
   "outputs": [
    {
     "data": {
      "text/html": [
       "<style>#sk-container-id-3 {color: black;background-color: white;}#sk-container-id-3 pre{padding: 0;}#sk-container-id-3 div.sk-toggleable {background-color: white;}#sk-container-id-3 label.sk-toggleable__label {cursor: pointer;display: block;width: 100%;margin-bottom: 0;padding: 0.3em;box-sizing: border-box;text-align: center;}#sk-container-id-3 label.sk-toggleable__label-arrow:before {content: \"▸\";float: left;margin-right: 0.25em;color: #696969;}#sk-container-id-3 label.sk-toggleable__label-arrow:hover:before {color: black;}#sk-container-id-3 div.sk-estimator:hover label.sk-toggleable__label-arrow:before {color: black;}#sk-container-id-3 div.sk-toggleable__content {max-height: 0;max-width: 0;overflow: hidden;text-align: left;background-color: #f0f8ff;}#sk-container-id-3 div.sk-toggleable__content pre {margin: 0.2em;color: black;border-radius: 0.25em;background-color: #f0f8ff;}#sk-container-id-3 input.sk-toggleable__control:checked~div.sk-toggleable__content {max-height: 200px;max-width: 100%;overflow: auto;}#sk-container-id-3 input.sk-toggleable__control:checked~label.sk-toggleable__label-arrow:before {content: \"▾\";}#sk-container-id-3 div.sk-estimator input.sk-toggleable__control:checked~label.sk-toggleable__label {background-color: #d4ebff;}#sk-container-id-3 div.sk-label input.sk-toggleable__control:checked~label.sk-toggleable__label {background-color: #d4ebff;}#sk-container-id-3 input.sk-hidden--visually {border: 0;clip: rect(1px 1px 1px 1px);clip: rect(1px, 1px, 1px, 1px);height: 1px;margin: -1px;overflow: hidden;padding: 0;position: absolute;width: 1px;}#sk-container-id-3 div.sk-estimator {font-family: monospace;background-color: #f0f8ff;border: 1px dotted black;border-radius: 0.25em;box-sizing: border-box;margin-bottom: 0.5em;}#sk-container-id-3 div.sk-estimator:hover {background-color: #d4ebff;}#sk-container-id-3 div.sk-parallel-item::after {content: \"\";width: 100%;border-bottom: 1px solid gray;flex-grow: 1;}#sk-container-id-3 div.sk-label:hover label.sk-toggleable__label {background-color: #d4ebff;}#sk-container-id-3 div.sk-serial::before {content: \"\";position: absolute;border-left: 1px solid gray;box-sizing: border-box;top: 0;bottom: 0;left: 50%;z-index: 0;}#sk-container-id-3 div.sk-serial {display: flex;flex-direction: column;align-items: center;background-color: white;padding-right: 0.2em;padding-left: 0.2em;position: relative;}#sk-container-id-3 div.sk-item {position: relative;z-index: 1;}#sk-container-id-3 div.sk-parallel {display: flex;align-items: stretch;justify-content: center;background-color: white;position: relative;}#sk-container-id-3 div.sk-item::before, #sk-container-id-3 div.sk-parallel-item::before {content: \"\";position: absolute;border-left: 1px solid gray;box-sizing: border-box;top: 0;bottom: 0;left: 50%;z-index: -1;}#sk-container-id-3 div.sk-parallel-item {display: flex;flex-direction: column;z-index: 1;position: relative;background-color: white;}#sk-container-id-3 div.sk-parallel-item:first-child::after {align-self: flex-end;width: 50%;}#sk-container-id-3 div.sk-parallel-item:last-child::after {align-self: flex-start;width: 50%;}#sk-container-id-3 div.sk-parallel-item:only-child::after {width: 0;}#sk-container-id-3 div.sk-dashed-wrapped {border: 1px dashed gray;margin: 0 0.4em 0.5em 0.4em;box-sizing: border-box;padding-bottom: 0.4em;background-color: white;}#sk-container-id-3 div.sk-label label {font-family: monospace;font-weight: bold;display: inline-block;line-height: 1.2em;}#sk-container-id-3 div.sk-label-container {text-align: center;}#sk-container-id-3 div.sk-container {/* jupyter's `normalize.less` sets `[hidden] { display: none; }` but bootstrap.min.css set `[hidden] { display: none !important; }` so we also need the `!important` here to be able to override the default hidden behavior on the sphinx rendered scikit-learn.org. See: https://github.com/scikit-learn/scikit-learn/issues/21755 */display: inline-block !important;position: relative;}#sk-container-id-3 div.sk-text-repr-fallback {display: none;}</style><div id=\"sk-container-id-3\" class=\"sk-top-container\"><div class=\"sk-text-repr-fallback\"><pre>XGBClassifier(learning_rate=1, max_depth=5, n_estimators=50)</pre><b>In a Jupyter environment, please rerun this cell to show the HTML representation or trust the notebook. <br />On GitHub, the HTML representation is unable to render, please try loading this page with nbviewer.org.</b></div><div class=\"sk-container\" hidden><div class=\"sk-item\"><div class=\"sk-estimator sk-toggleable\"><input class=\"sk-toggleable__control sk-hidden--visually\" id=\"sk-estimator-id-5\" type=\"checkbox\" checked><label for=\"sk-estimator-id-5\" class=\"sk-toggleable__label sk-toggleable__label-arrow\">XGBClassifier</label><div class=\"sk-toggleable__content\"><pre>XGBClassifier(learning_rate=1, max_depth=5, n_estimators=50)</pre></div></div></div></div></div>"
      ],
      "text/plain": [
       "XGBClassifier(learning_rate=1, max_depth=5, n_estimators=50)"
      ]
     },
     "execution_count": 55,
     "metadata": {},
     "output_type": "execute_result"
    }
   ],
   "source": [
    "new_model=XGBClassifier(learning_rate= 1, max_depth= 5, n_estimators= 50)\n",
    "new_model.fit(X_train, y_train)"
   ]
  },
  {
   "cell_type": "code",
   "execution_count": 56,
   "id": "55138d58",
   "metadata": {},
   "outputs": [
    {
     "data": {
      "text/plain": [
       "0.7445887445887446"
      ]
     },
     "execution_count": 56,
     "metadata": {},
     "output_type": "execute_result"
    }
   ],
   "source": [
    "y_pred_new = new_model.predict(X_test)\n",
    "predictions_new = [round(value) for value in y_pred_new]\n",
    "accuracy_new = accuracy_score(y_test,predictions_new)\n",
    "accuracy_new"
   ]
  },
  {
   "cell_type": "code",
   "execution_count": 57,
   "id": "3e210368",
   "metadata": {},
   "outputs": [],
   "source": [
    "filename = 'xgboost_model132023.pickle'\n",
    "pickle.dump(new_model, open(filename, 'wb'))\n",
    "\n",
    "loaded_model = pickle.load(open(filename, 'rb'))"
   ]
  },
  {
   "cell_type": "code",
   "execution_count": 58,
   "id": "a9fb66f9",
   "metadata": {},
   "outputs": [],
   "source": [
    "filename_scaler = 'scaler_model132023.pickle'\n",
    "pickle.dump(scaler, open(filename_scaler, 'wb'))\n",
    "\n",
    "scaler_model = pickle.load(open(filename_scaler, 'rb'))"
   ]
  },
  {
   "cell_type": "code",
   "execution_count": 59,
   "id": "d165c05e",
   "metadata": {},
   "outputs": [
    {
     "name": "stderr",
     "output_type": "stream",
     "text": [
      "C:\\Users\\skme2\\anaconda3\\lib\\site-packages\\sklearn\\base.py:450: UserWarning: X does not have valid feature names, but StandardScaler was fitted with feature names\n",
      "  warnings.warn(\n"
     ]
    },
    {
     "name": "stdout",
     "output_type": "stream",
     "text": [
      "This data belongs to class : 1\n"
     ]
    }
   ],
   "source": [
    "d=scaler_model.transform([[6,148,72,35,80,33.6,0.627,50]])\n",
    "pred=loaded_model.predict(d)\n",
    "print('This data belongs to class :',pred[0])"
   ]
  },
  {
   "cell_type": "code",
   "execution_count": 61,
   "id": "365ff30b",
   "metadata": {},
   "outputs": [
    {
     "data": {
      "text/plain": [
       "1"
      ]
     },
     "execution_count": 61,
     "metadata": {},
     "output_type": "execute_result"
    }
   ],
   "source": [
    "pred[0]"
   ]
  },
  {
   "cell_type": "code",
   "execution_count": null,
   "id": "3f02beea",
   "metadata": {},
   "outputs": [],
   "source": []
  }
 ],
 "metadata": {
  "kernelspec": {
   "display_name": "Python 3",
   "language": "python",
   "name": "python3"
  },
  "language_info": {
   "codemirror_mode": {
    "name": "ipython",
    "version": 3
   },
   "file_extension": ".py",
   "mimetype": "text/x-python",
   "name": "python",
   "nbconvert_exporter": "python",
   "pygments_lexer": "ipython3",
   "version": "3.8.8"
  }
 },
 "nbformat": 4,
 "nbformat_minor": 5
}
